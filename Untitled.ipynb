{
 "cells": [
  {
   "cell_type": "code",
   "execution_count": 3,
   "id": "adccf47d",
   "metadata": {
    "scrolled": true
   },
   "outputs": [
    {
     "name": "stdout",
     "output_type": "stream",
     "text": [
      "Total number of table: 3\n",
      "Table n°0\n",
      "       0                  1  \\\n",
      "0  N\\no.  Shareholder/Proxy   \n",
      "1     1.      Lim Kheng Joo   \n",
      "2     2.      Lim Kheng Joo   \n",
      "3     3.      Lim Kheng Joo   \n",
      "\n",
      "                                                   2  \\\n",
      "0                                           Question   \n",
      "1  What is the total expenditure allocated \\nper ...   \n",
      "2  Are  Directors \\nattending \\nthis \\nvirtual \\n...   \n",
      "3  What is the cost-savings for conducting \\nthis...   \n",
      "\n",
      "                                                   3  \n",
      "0             Response from the Directors/Management  \n",
      "1  The  Group  recognised  that  ESG  would  play...  \n",
      "2  The  Independent  Non-Executive  Directors  wh...  \n",
      "3  There was about 20% cost saving for conducting...  \n",
      "Table n°1\n",
      "     0                  1                                                  2  \\\n",
      "0  No.  Shareholder/Proxy                                           Question   \n",
      "1   1.        Ong Kok Pak  Will \\nthe  Company  publish  all  Q&A \\nfrom ...   \n",
      "2   2.        Ong Kok Pak  Can  the  Board  of  Directors  allow  the \\ns...   \n",
      "3   3.        Ong Kok Pak  Currently  how  many  buses  and  cars \\nare  ...   \n",
      "4   4.        Ong Kok Pak  Our \\nCompany \\ndoes \\nhave \\nWhistleblower  P...   \n",
      "\n",
      "                                                   3  \n",
      "0             Response from the Directors/Management  \n",
      "1  The  Company  would  publish  the  key  matter...  \n",
      "2  T\\nThe Board aspires to apply the Practices se...  \n",
      "3  As of end 2020, the Car Rental Division had a ...  \n",
      "4  In accordance with Section 17(A) of the Malays...  \n",
      "Table n°2\n",
      "     0                                   1  \\\n",
      "0  No.                   Shareholder/Proxy   \n",
      "1   5.                         Ong Kok Pak   \n",
      "2   6.  Thavarajan  A/L  Muthaiah \\nPillai   \n",
      "3   7.                       Tan Seong Kok   \n",
      "\n",
      "                                                   2  \\\n",
      "0                                           Question   \n",
      "1  Will the Company answer every single \\nshareho...   \n",
      "2  What \\nis \\nthe  outlook \\nfor  2021-22 \\nfor ...   \n",
      "3  Since  no  dividend  was  declared \\nto \\nshar...   \n",
      "\n",
      "                                                   3  \n",
      "0             Response from the Directors/Management  \n",
      "1  We will try our best to respond to all questio...  \n",
      "2  T\\n  I\\nAlthough  year  2021  is  a  year  of ...  \n",
      "3  As  shown  on  page  140  of \\nthe  Company’s ...  \n"
     ]
    }
   ],
   "source": [
    "from camelot import read_pdf\n",
    "\n",
    "# Get all the tables within the file\n",
    "all_tables = read_pdf('src/AGM.pdf', pages = '11,12,13')\n",
    "\n",
    "# Show the total number of tables in the file\n",
    "print(\"Total number of table: {}\".format(all_tables.n))\n",
    "\n",
    "# print all the tables in the file\n",
    "for t in range(all_tables.n):\n",
    "    print(\"Table n°{}\".format(t))\n",
    "    print((all_tables[t].df).head())"
   ]
  },
  {
   "cell_type": "code",
   "execution_count": 4,
   "id": "2f2127ba",
   "metadata": {},
   "outputs": [
    {
     "data": {
      "text/plain": [
       "<Table shape=(5, 4)>"
      ]
     },
     "execution_count": 4,
     "metadata": {},
     "output_type": "execute_result"
    }
   ],
   "source": [
    "all_tables[1]"
   ]
  },
  {
   "cell_type": "code",
   "execution_count": 2,
   "id": "b5270c5b",
   "metadata": {},
   "outputs": [
    {
     "data": {
      "text/plain": [
       "'C:\\\\Program Files\\\\gs\\\\gs9.56.1\\\\bin\\\\gsdll64.dll'"
      ]
     },
     "execution_count": 2,
     "metadata": {},
     "output_type": "execute_result"
    }
   ],
   "source": [
    "import ctypes\n",
    "from ctypes.util import find_library\n",
    "find_library(\"\".join((\"gsdll\", str(ctypes.sizeof(ctypes.c_voidp) * 8), \".dll\")))"
   ]
  },
  {
   "cell_type": "code",
   "execution_count": null,
   "id": "121f3881",
   "metadata": {},
   "outputs": [],
   "source": []
  }
 ],
 "metadata": {
  "kernelspec": {
   "display_name": "Python 3 (ipykernel)",
   "language": "python",
   "name": "python3"
  },
  "language_info": {
   "codemirror_mode": {
    "name": "ipython",
    "version": 3
   },
   "file_extension": ".py",
   "mimetype": "text/x-python",
   "name": "python",
   "nbconvert_exporter": "python",
   "pygments_lexer": "ipython3",
   "version": "3.9.0"
  }
 },
 "nbformat": 4,
 "nbformat_minor": 5
}
