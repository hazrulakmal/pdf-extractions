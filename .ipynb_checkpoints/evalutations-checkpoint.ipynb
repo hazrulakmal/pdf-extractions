{
 "cells": [
  {
   "cell_type": "markdown",
   "metadata": {},
   "source": [
    "## PyMuPDF\n",
    "- extracting images from PDF\n",
    "- extracting texts from different shapes\n",
    "- making annotations\n",
    "- draw a bounded box around the texts\n"
   ]
  },
  {
   "cell_type": "markdown",
   "metadata": {},
   "source": [
    "### Text Data Extractions"
   ]
  },
  {
   "cell_type": "code",
   "execution_count": 3,
   "metadata": {},
   "outputs": [
    {
     "name": "stderr",
     "output_type": "stream",
     "text": [
      "WARNING:root:Cannot locate objid=196\n"
     ]
    },
    {
     "data": {
      "text/plain": [
       "16909"
      ]
     },
     "execution_count": 3,
     "metadata": {},
     "output_type": "execute_result"
    }
   ],
   "source": [
    "import slate3k as slate\n",
    "\n",
    "text  = slate.PDF(open('src/supervisionletter.pdf', 'rb')).text()\n",
    "len(text)"
   ]
  },
  {
   "cell_type": "code",
   "execution_count": 1,
   "metadata": {},
   "outputs": [
    {
     "name": "stdout",
     "output_type": "stream",
     "text": [
      "Collecting package metadata (current_repodata.json): ...working... done"
     ]
    },
    {
     "name": "stderr",
     "output_type": "stream",
     "text": [
      "\n",
      "PackagesNotFoundError: The following packages are not available from current channels:\n",
      "\n",
      "  - camelot\n",
      "\n",
      "Current channels:\n",
      "\n",
      "  - https://repo.anaconda.com/pkgs/main/win-64\n",
      "  - https://repo.anaconda.com/pkgs/main/noarch\n",
      "  - https://repo.anaconda.com/pkgs/r/win-64\n",
      "  - https://repo.anaconda.com/pkgs/r/noarch\n",
      "  - https://repo.anaconda.com/pkgs/msys2/win-64\n",
      "  - https://repo.anaconda.com/pkgs/msys2/noarch\n",
      "\n",
      "To search for alternate channels that may provide the conda package you're\n",
      "looking for, navigate to\n",
      "\n",
      "    https://anaconda.org\n",
      "\n",
      "and use the search bar at the top of the page.\n",
      "\n",
      "\n"
     ]
    },
    {
     "name": "stdout",
     "output_type": "stream",
     "text": [
      "\n",
      "Solving environment: ...working... failed with initial frozen solve. Retrying with flexible solve.\n",
      "Collecting package metadata (repodata.json): ...working... done\n",
      "Solving environment: ...working... failed with initial frozen solve. Retrying with flexible solve.\n",
      "Collecting package metadata (current_repodata.json): ...working... done\n",
      "Solving environment: ...working... failed with initial frozen solve. Retrying with flexible solve.\n",
      "Collecting package metadata (repodata.json): ...working... done\n",
      "Solving environment: ...working... failed with initial frozen solve. Retrying with flexible solve.\n"
     ]
    },
    {
     "name": "stderr",
     "output_type": "stream",
     "text": [
      "\n",
      "PackagesNotFoundError: The following packages are not available from current channels:\n",
      "\n",
      "  - ghostscript\n",
      "\n",
      "Current channels:\n",
      "\n",
      "  - https://repo.anaconda.com/pkgs/main/win-64\n",
      "  - https://repo.anaconda.com/pkgs/main/noarch\n",
      "  - https://repo.anaconda.com/pkgs/r/win-64\n",
      "  - https://repo.anaconda.com/pkgs/r/noarch\n",
      "  - https://repo.anaconda.com/pkgs/msys2/win-64\n",
      "  - https://repo.anaconda.com/pkgs/msys2/noarch\n",
      "\n",
      "To search for alternate channels that may provide the conda package you're\n",
      "looking for, navigate to\n",
      "\n",
      "    https://anaconda.org\n",
      "\n",
      "and use the search bar at the top of the page.\n",
      "\n",
      "\n"
     ]
    }
   ],
   "source": [
    "import sys\n",
    "!conda install --yes --prefix {sys.prefix} camelot\n",
    "!conda install --yes --prefix {sys.prefix} ghostscript"
   ]
  },
  {
   "cell_type": "code",
   "execution_count": 1,
   "metadata": {},
   "outputs": [],
   "source": [
    "import ctypes\n",
    "from ctypes.util import find_library\n",
    "find_library(\"\".join((\"gsdll\", str(ctypes.sizeof(ctypes.c_voidp) * 8), \".dll\")))"
   ]
  },
  {
   "cell_type": "code",
   "execution_count": 2,
   "metadata": {},
   "outputs": [
    {
     "ename": "RuntimeError",
     "evalue": "Please make sure that Ghostscript is installed",
     "output_type": "error",
     "traceback": [
      "\u001b[1;31m---------------------------------------------------------------------------\u001b[0m",
      "\u001b[1;31mRuntimeError\u001b[0m                              Traceback (most recent call last)",
      "\u001b[1;32mc:\\Users\\Hazrul Akmal\\Documents\\GitHub\\Python\\pdf-extractions\\evalutations.ipynb Cell 5\u001b[0m in \u001b[0;36m<cell line: 4>\u001b[1;34m()\u001b[0m\n\u001b[0;32m      <a href='vscode-notebook-cell:/c%3A/Users/Hazrul%20Akmal/Documents/GitHub/Python/pdf-extractions/evalutations.ipynb#ch0000004?line=0'>1</a>\u001b[0m \u001b[39mfrom\u001b[39;00m \u001b[39mcamelot\u001b[39;00m \u001b[39mimport\u001b[39;00m read_pdf\n\u001b[0;32m      <a href='vscode-notebook-cell:/c%3A/Users/Hazrul%20Akmal/Documents/GitHub/Python/pdf-extractions/evalutations.ipynb#ch0000004?line=2'>3</a>\u001b[0m \u001b[39m# Get all the tables within the file\u001b[39;00m\n\u001b[1;32m----> <a href='vscode-notebook-cell:/c%3A/Users/Hazrul%20Akmal/Documents/GitHub/Python/pdf-extractions/evalutations.ipynb#ch0000004?line=3'>4</a>\u001b[0m all_tables \u001b[39m=\u001b[39m read_pdf(\u001b[39m'\u001b[39;49m\u001b[39msrc/Financial statement.pdf\u001b[39;49m\u001b[39m'\u001b[39;49m, pages \u001b[39m=\u001b[39;49m \u001b[39m'\u001b[39;49m\u001b[39m2,3,4,5\u001b[39;49m\u001b[39m'\u001b[39;49m)\n\u001b[0;32m      <a href='vscode-notebook-cell:/c%3A/Users/Hazrul%20Akmal/Documents/GitHub/Python/pdf-extractions/evalutations.ipynb#ch0000004?line=5'>6</a>\u001b[0m \u001b[39m# Show the total number of tables in the file\u001b[39;00m\n\u001b[0;32m      <a href='vscode-notebook-cell:/c%3A/Users/Hazrul%20Akmal/Documents/GitHub/Python/pdf-extractions/evalutations.ipynb#ch0000004?line=6'>7</a>\u001b[0m \u001b[39mprint\u001b[39m(\u001b[39m\"\u001b[39m\u001b[39mTotal number of table: \u001b[39m\u001b[39m{}\u001b[39;00m\u001b[39m\"\u001b[39m\u001b[39m.\u001b[39mformat(all_tables\u001b[39m.\u001b[39mn))\n",
      "File \u001b[1;32mc:\\Users\\Hazrul Akmal\\AppData\\Local\\Programs\\Python\\Python310\\lib\\site-packages\\camelot\\io.py:113\u001b[0m, in \u001b[0;36mread_pdf\u001b[1;34m(filepath, pages, password, flavor, suppress_stdout, layout_kwargs, **kwargs)\u001b[0m\n\u001b[0;32m    111\u001b[0m p \u001b[39m=\u001b[39m PDFHandler(filepath, pages\u001b[39m=\u001b[39mpages, password\u001b[39m=\u001b[39mpassword)\n\u001b[0;32m    112\u001b[0m kwargs \u001b[39m=\u001b[39m remove_extra(kwargs, flavor\u001b[39m=\u001b[39mflavor)\n\u001b[1;32m--> 113\u001b[0m tables \u001b[39m=\u001b[39m p\u001b[39m.\u001b[39mparse(\n\u001b[0;32m    114\u001b[0m     flavor\u001b[39m=\u001b[39mflavor,\n\u001b[0;32m    115\u001b[0m     suppress_stdout\u001b[39m=\u001b[39msuppress_stdout,\n\u001b[0;32m    116\u001b[0m     layout_kwargs\u001b[39m=\u001b[39mlayout_kwargs,\n\u001b[0;32m    117\u001b[0m     \u001b[39m*\u001b[39m\u001b[39m*\u001b[39mkwargs\n\u001b[0;32m    118\u001b[0m )\n\u001b[0;32m    119\u001b[0m \u001b[39mreturn\u001b[39;00m tables\n",
      "File \u001b[1;32mc:\\Users\\Hazrul Akmal\\AppData\\Local\\Programs\\Python\\Python310\\lib\\site-packages\\camelot\\handlers.py:173\u001b[0m, in \u001b[0;36mPDFHandler.parse\u001b[1;34m(self, flavor, suppress_stdout, layout_kwargs, **kwargs)\u001b[0m\n\u001b[0;32m    171\u001b[0m     parser \u001b[39m=\u001b[39m Lattice(\u001b[39m*\u001b[39m\u001b[39m*\u001b[39mkwargs) \u001b[39mif\u001b[39;00m flavor \u001b[39m==\u001b[39m \u001b[39m\"\u001b[39m\u001b[39mlattice\u001b[39m\u001b[39m\"\u001b[39m \u001b[39melse\u001b[39;00m Stream(\u001b[39m*\u001b[39m\u001b[39m*\u001b[39mkwargs)\n\u001b[0;32m    172\u001b[0m     \u001b[39mfor\u001b[39;00m p \u001b[39min\u001b[39;00m pages:\n\u001b[1;32m--> 173\u001b[0m         t \u001b[39m=\u001b[39m parser\u001b[39m.\u001b[39;49mextract_tables(\n\u001b[0;32m    174\u001b[0m             p, suppress_stdout\u001b[39m=\u001b[39;49msuppress_stdout, layout_kwargs\u001b[39m=\u001b[39;49mlayout_kwargs\n\u001b[0;32m    175\u001b[0m         )\n\u001b[0;32m    176\u001b[0m         tables\u001b[39m.\u001b[39mextend(t)\n\u001b[0;32m    177\u001b[0m \u001b[39mreturn\u001b[39;00m TableList(\u001b[39msorted\u001b[39m(tables))\n",
      "File \u001b[1;32mc:\\Users\\Hazrul Akmal\\AppData\\Local\\Programs\\Python\\Python310\\lib\\site-packages\\camelot\\parsers\\lattice.py:402\u001b[0m, in \u001b[0;36mLattice.extract_tables\u001b[1;34m(self, filename, suppress_stdout, layout_kwargs)\u001b[0m\n\u001b[0;32m    397\u001b[0m         warnings\u001b[39m.\u001b[39mwarn(\n\u001b[0;32m    398\u001b[0m             \u001b[39m\"\u001b[39m\u001b[39mNo tables found on \u001b[39m\u001b[39m{}\u001b[39;00m\u001b[39m\"\u001b[39m\u001b[39m.\u001b[39mformat(os\u001b[39m.\u001b[39mpath\u001b[39m.\u001b[39mbasename(\u001b[39mself\u001b[39m\u001b[39m.\u001b[39mrootname))\n\u001b[0;32m    399\u001b[0m         )\n\u001b[0;32m    400\u001b[0m     \u001b[39mreturn\u001b[39;00m []\n\u001b[1;32m--> 402\u001b[0m \u001b[39mself\u001b[39;49m\u001b[39m.\u001b[39;49m_generate_image()\n\u001b[0;32m    403\u001b[0m \u001b[39mself\u001b[39m\u001b[39m.\u001b[39m_generate_table_bbox()\n\u001b[0;32m    405\u001b[0m _tables \u001b[39m=\u001b[39m []\n",
      "File \u001b[1;32mc:\\Users\\Hazrul Akmal\\AppData\\Local\\Programs\\Python\\Python310\\lib\\site-packages\\camelot\\parsers\\lattice.py:211\u001b[0m, in \u001b[0;36mLattice._generate_image\u001b[1;34m(self)\u001b[0m\n\u001b[0;32m    210\u001b[0m \u001b[39mdef\u001b[39;00m \u001b[39m_generate_image\u001b[39m(\u001b[39mself\u001b[39m):\n\u001b[1;32m--> 211\u001b[0m     \u001b[39mfrom\u001b[39;00m \u001b[39m.\u001b[39;00m\u001b[39m.\u001b[39;00m\u001b[39mext\u001b[39;00m\u001b[39m.\u001b[39;00m\u001b[39mghostscript\u001b[39;00m \u001b[39mimport\u001b[39;00m Ghostscript\n\u001b[0;32m    213\u001b[0m     \u001b[39mself\u001b[39m\u001b[39m.\u001b[39mimagename \u001b[39m=\u001b[39m \u001b[39m\"\u001b[39m\u001b[39m\"\u001b[39m\u001b[39m.\u001b[39mjoin([\u001b[39mself\u001b[39m\u001b[39m.\u001b[39mrootname, \u001b[39m\"\u001b[39m\u001b[39m.png\u001b[39m\u001b[39m\"\u001b[39m])\n\u001b[0;32m    214\u001b[0m     gs_call \u001b[39m=\u001b[39m \u001b[39m\"\u001b[39m\u001b[39m-q -sDEVICE=png16m -o \u001b[39m\u001b[39m{}\u001b[39;00m\u001b[39m -r\u001b[39m\u001b[39m{}\u001b[39;00m\u001b[39m \u001b[39m\u001b[39m{}\u001b[39;00m\u001b[39m\"\u001b[39m\u001b[39m.\u001b[39mformat(\n\u001b[0;32m    215\u001b[0m         \u001b[39mself\u001b[39m\u001b[39m.\u001b[39mimagename, \u001b[39mself\u001b[39m\u001b[39m.\u001b[39mresolution, \u001b[39mself\u001b[39m\u001b[39m.\u001b[39mfilename\n\u001b[0;32m    216\u001b[0m     )\n",
      "File \u001b[1;32mc:\\Users\\Hazrul Akmal\\AppData\\Local\\Programs\\Python\\Python310\\lib\\site-packages\\camelot\\ext\\ghostscript\\__init__.py:24\u001b[0m, in \u001b[0;36m<module>\u001b[1;34m\u001b[0m\n\u001b[0;32m      3\u001b[0m \u001b[39m\"\"\"\u001b[39;00m\n\u001b[0;32m      4\u001b[0m \u001b[39mghostscript - A Python interface for the Ghostscript interpreter C-API\u001b[39;00m\n\u001b[0;32m      5\u001b[0m \u001b[39m\"\"\"\u001b[39;00m\n\u001b[0;32m      6\u001b[0m \u001b[39m#\u001b[39;00m\n\u001b[0;32m      7\u001b[0m \u001b[39m# Modifications 2018 by Vinayak Mehta <vmehta94@gmail.com>\u001b[39;00m\n\u001b[0;32m      8\u001b[0m \u001b[39m# Copyright 2010-2018 by Hartmut Goebel <h.goebel@crazy-compilers.com>\u001b[39;00m\n\u001b[1;32m   (...)\u001b[0m\n\u001b[0;32m     21\u001b[0m \u001b[39m# along with this program. If not, see <http://www.gnu.org/licenses/>.\u001b[39;00m\n\u001b[0;32m     22\u001b[0m \u001b[39m#\u001b[39;00m\n\u001b[1;32m---> 24\u001b[0m \u001b[39mfrom\u001b[39;00m \u001b[39m.\u001b[39;00m \u001b[39mimport\u001b[39;00m _gsprint \u001b[39mas\u001b[39;00m gs\n\u001b[0;32m     27\u001b[0m __author__ \u001b[39m=\u001b[39m \u001b[39m\"\u001b[39m\u001b[39mHartmut Goebel <h.goebel@crazy-compilers.com>\u001b[39m\u001b[39m\"\u001b[39m\n\u001b[0;32m     28\u001b[0m __copyright__ \u001b[39m=\u001b[39m \u001b[39m\"\u001b[39m\u001b[39mCopyright 2010-2018 by Hartmut Goebel <h.goebel@crazy-compilers.com>\u001b[39m\u001b[39m\"\u001b[39m\n",
      "File \u001b[1;32mc:\\Users\\Hazrul Akmal\\AppData\\Local\\Programs\\Python\\Python310\\lib\\site-packages\\camelot\\ext\\ghostscript\\_gsprint.py:256\u001b[0m, in \u001b[0;36m<module>\u001b[1;34m\u001b[0m\n\u001b[0;32m    252\u001b[0m         libgs \u001b[39m=\u001b[39m ctypes\u001b[39m.\u001b[39mutil\u001b[39m.\u001b[39mfind_library(\n\u001b[0;32m    253\u001b[0m             \u001b[39m\"\u001b[39m\u001b[39m\"\u001b[39m\u001b[39m.\u001b[39mjoin((\u001b[39m\"\u001b[39m\u001b[39mgsdll\u001b[39m\u001b[39m\"\u001b[39m, \u001b[39mstr\u001b[39m(ctypes\u001b[39m.\u001b[39msizeof(ctypes\u001b[39m.\u001b[39mc_voidp) \u001b[39m*\u001b[39m \u001b[39m8\u001b[39m), \u001b[39m\"\u001b[39m\u001b[39m.dll\u001b[39m\u001b[39m\"\u001b[39m))\n\u001b[0;32m    254\u001b[0m         )  \u001b[39m# finds in %PATH%\u001b[39;00m\n\u001b[0;32m    255\u001b[0m     \u001b[39mif\u001b[39;00m \u001b[39mnot\u001b[39;00m libgs:\n\u001b[1;32m--> 256\u001b[0m         \u001b[39mraise\u001b[39;00m \u001b[39mRuntimeError\u001b[39;00m(\u001b[39m\"\u001b[39m\u001b[39mPlease make sure that Ghostscript is installed\u001b[39m\u001b[39m\"\u001b[39m)\n\u001b[0;32m    257\u001b[0m     libgs \u001b[39m=\u001b[39m windll\u001b[39m.\u001b[39mLoadLibrary(libgs)\n\u001b[0;32m    258\u001b[0m \u001b[39melse\u001b[39;00m:\n",
      "\u001b[1;31mRuntimeError\u001b[0m: Please make sure that Ghostscript is installed"
     ]
    }
   ],
   "source": [
    "from camelot import read_pdf\n",
    "\n",
    "# Get all the tables within the file\n",
    "all_tables = read_pdf('src/Financial statement.pdf', pages = '2,3,4,5')\n",
    "\n",
    "# Show the total number of tables in the file\n",
    "print(\"Total number of table: {}\".format(all_tables.n))\n",
    "\n",
    "# print all the tables in the file\n",
    "for t in range(all_tables.n):\n",
    "    print(\"Table n°{}\".format(t))\n",
    "    print((all_tables[t].df).head())"
   ]
  },
  {
   "cell_type": "code",
   "execution_count": null,
   "metadata": {},
   "outputs": [],
   "source": []
  }
 ],
 "metadata": {
  "kernelspec": {
   "display_name": "Python 3 (ipykernel)",
   "language": "python",
   "name": "python3"
  },
  "language_info": {
   "codemirror_mode": {
    "name": "ipython",
    "version": 3
   },
   "file_extension": ".py",
   "mimetype": "text/x-python",
   "name": "python",
   "nbconvert_exporter": "python",
   "pygments_lexer": "ipython3",
   "version": "3.9.0"
  },
  "vscode": {
   "interpreter": {
    "hash": "325107ac48b2da5046120ef209c99f8354112f87220bf38b855978ba6df01ef6"
   }
  }
 },
 "nbformat": 4,
 "nbformat_minor": 2
}
